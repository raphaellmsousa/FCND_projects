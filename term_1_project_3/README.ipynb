{
 "cells": [
  {
   "cell_type": "markdown",
   "metadata": {},
   "source": [
    "# FCND - Term 1/project 3\n",
    "\n",
    "## Author: Raphaell Maciel de Sousa"
   ]
  },
  {
   "cell_type": "markdown",
   "metadata": {},
   "source": [
    "# Implemented Controller - 3D controller\n",
    "Next, we will implement the controller for the drone which will be able to control it in the 3D environment. \n",
    "From lesson, you are already familiar with the architecture of the controller. It consists of altitude controller, position controller, and attitude controller. \n",
    "\n",
    "<img src=\"figures/control1.png\" width=\"800\">\n",
    "The attitude controller breaks down into smaller controllers responsible for roll-pitch, yaw, and body rate. \n",
    "<img src=\"figures/control2.png\" width=\"600\">\n",
    "Parameters which will be required to create the controller are:\n",
    " - Altitude controller: $k_{p-z}$, $k_{d-z}$\n",
    " - Position controller: $k_{p-x}$, $k_{d-x}$, $k_{p-y}$, $k_{d-y}$\n",
    " - Roll-Pitch controller: $k_{p-roll}$, $k_{p-pitch}$\n",
    " - Yaw controller: $k_{p-yaw}$\n",
    " - Body rate controller: $k_{p-p}$, $k_{p-q}$, $k_{p-r}$\n",
    " \n",
    "Based on input parameters we also can calculate $\\delta$ and $\\omega_n$ for altitude $z$ and lateral controls $x$ and $y$."
   ]
  },
  {
   "cell_type": "markdown",
   "metadata": {},
   "source": [
    "## Implemented body rate control in python and C++\n",
    "\n",
    "Body-rate constrol consists in a proportional controller as follow:\n",
    "\n",
    "$p_{\\text{error}} = p_c - p$\n",
    "\n",
    "$\\bar{u}_p= k_{p-p} p_{\\text{error}}$\n",
    "\n",
    "$q_{\\text{error}} = q_c - q$\n",
    "\n",
    "$\\bar{u}_q= k_{p-q} q_{\\text{error}}$\n",
    "\n",
    "$r_{\\text{error}} = r_c - r$\n",
    "\n",
    "$\\bar{u}_r= k_{p-r} r_{\\text{error}}$\n",
    "\n",
    "### Implementation\n",
    "\n",
    "The implementations in python can be found in controller.py (lines 191-213). In C++ the controller is implemented in QuadControl.cpp (lines 111-137). \n",
    "\n",
    "In C++ it was required return the moments for each of the 3 axes. So, we used the Proportional controller to calculate the lateral acceleration as descrebed in the above equations, after all, we used moments of inertia to calculate the command moment as follow:\n",
    "\n",
    "momentCmd = I * angular_acc;"
   ]
  },
  {
   "cell_type": "markdown",
   "metadata": {},
   "source": [
    "## Implement roll pitch control in python and C++\n",
    "\n",
    "The roll-pitch controller is a P controller responsible for commanding the roll and pitch rates ($p_c$ and $q_c$) in the body frame.  First, it sets the desired rate of change of the given matrix elements using a P controller. \n",
    "\n",
    "**Note** - subscript c means \"commanded\" and a means \"actual\"\n",
    "\n",
    "$\\dot{b}^x_c  = k_p(b^x_c - b^x_a)$\n",
    "\n",
    "$\\dot{b}^y_c  = k_p(b^y_c - b^y_a)$\n",
    "\n",
    "where $b^x_a = R_{13}$ and $b^y_a = R_{23}$. The given values can be converted into the angular velocities into the body frame by the next matrix multiplication. \n",
    "\n",
    "$$\n",
    "\\begin{pmatrix} p_c \\\\ q_c \\\\ \\end{pmatrix}  = \\frac{1}{R_{33}}\\begin{pmatrix} R_{21} & -R_{11} \\\\ R_{22} & -R_{12} \\end{pmatrix} \\times \\begin{pmatrix} \\dot{b}^x_c \\\\ \\dot{b}^y_c  \\end{pmatrix} \n",
    "$$\n",
    "\n",
    "### Implementation\n",
    "\n",
    "- python: lines 154-189\n",
    "- C++: lines 140-201"
   ]
  },
  {
   "cell_type": "markdown",
   "metadata": {},
   "source": [
    "## Implement altitude control in python\n",
    "\n",
    "Linear acceleration can be expressed by the next linear equation\n",
    "$$\n",
    "\\begin{pmatrix} \\ddot{x} \\\\ \\ddot{y} \\\\ \\ddot{z}\\end{pmatrix}  = \\begin{pmatrix} 0 \\\\ 0 \\\\ g\\end{pmatrix} + R \\begin{pmatrix} 0 \\\\ 0 \\\\ c \\end{pmatrix} \n",
    "$$\n",
    "\n",
    "where $R = R(\\psi) \\times R(\\theta) \\times R(\\phi)$. The individual linear acceleration has the form of \n",
    "\n",
    "$$\n",
    "\\begin{align}\n",
    "\\ddot{x} &= c b^x \\\\ \n",
    "\\ddot{y} &= c b^y \\\\ \n",
    "\\ddot{z} &= c b^z +g\n",
    "\\end{align}\n",
    "$$ \n",
    "where $b^x = R_{13}$, $b^y= R_{23}$ and $b^z = R_{33}$ are the elements of the last column of the rotation matrix. \n",
    "\n",
    "We are controlling the vertical acceleration: \n",
    "\n",
    "$$\\bar{u}_1 = \\ddot{z} = c b^z +g$$ \n",
    "\n",
    "Therefore \n",
    "\n",
    "$$c = (\\bar{u}_1-g)/b^z$$  \n",
    "\n",
    "\n",
    "In this exercise a PD controller is used for the altitude which results in: \n",
    "\n",
    "$$\\bar{u}_1 = k_{p-z}(z_{t} - z_{a}) + k_{d-z}(\\dot{z}_{t} - \\dot{z}_{a}) + \\ddot{z}_t$$\n",
    "\n",
    "### Implementation\n",
    "\n",
    "python: lines 127-152"
   ]
  },
  {
   "cell_type": "markdown",
   "metadata": {},
   "source": [
    "## Implement altitude controller in C++\n",
    "\n",
    "In C++ we had to do some alterations in the control strategy to achieve the requiriments. First of all, we have a drone with different mass, so, the controller should provide more thrust to track the trajectory. But a controller tuned to provide more thrust, fail in another scenarios. So, we add the integral portion of the PID controller:\n",
    "\n",
    "\n",
    "$$\\bar{u}_1 = P + I + D + \\ddot{z}_t$$\n",
    "\n",
    "But the integral controller was not enough to achieve zero stead state error! So we used a different approach as descrived bellow.\n",
    "\n",
    "### PID with adaptive incrmental gains\n",
    "\n",
    "The idea of the implemented technic is increase or decrease the proportional gain as a function of the error signal. So, if the altitude error is bigger than a defined limit, we increment the proportional gain, so, the controller adjust becomes more \"agressive\", and the opposite happens if the error is small, we decrise the proportional gain. \n",
    "\n",
    "In C++ the approach can be found in lines 204-270. And the incremental gains strategy are in lines 235-245."
   ]
  },
  {
   "cell_type": "markdown",
   "metadata": {},
   "source": [
    "## Implement lateral position control in python and C++\n",
    "The lateral controller will use a PD controller to command target values for elements of the drone's rotation matrix. The drone generates lateral acceleration by changing the body orientation which results in non-zero thrust in the desired direction. This will translate into the commanded rotation matrix elements $b^x_c$ and $b^y_c$. The control equations have the following form:\n",
    "\n",
    "$$\n",
    "\\begin{align}\n",
    "\\ddot{x}_{\\text{command}} &=  c b^x_c \\\\\n",
    "\\ddot{x}_{\\text{command}} &=  k^x_p(x_t-x_a) + k_d^x(\\dot{x}_t - \\dot{x}_a)+ \\ddot{x}_t \\\\\n",
    "b^x_c &= \\ddot{x}_{\\text{command}}/c\n",
    "\\end{align}\n",
    "$$\n",
    "\n",
    "for the $y$ direction the control equations will have the same form as above.\n",
    "\n",
    "### implementation\n",
    "\n",
    "- Python: lines 94-125\n",
    "- C++: lines 273-326"
   ]
  },
  {
   "cell_type": "markdown",
   "metadata": {},
   "source": [
    "## Implement yaw control in python and C++\n",
    "\n",
    "Control over yaw is decoupled from the other directions. A P controller is used to control the drone's yaw.\n",
    "\n",
    "$r_c = k_p (\\psi_t - \\psi_a)$\n",
    "\n",
    "### implementation\n",
    "\n",
    "- Python: lines 215-227\n",
    "- C++: lines 329-352"
   ]
  },
  {
   "cell_type": "markdown",
   "metadata": {},
   "source": [
    "## Implement calculating the motor commands given commanded thrust and moments in C++\n",
    "\n",
    "\n",
    "### Implementation\n",
    "\n",
    "lines 63-109"
   ]
  },
  {
   "cell_type": "markdown",
   "metadata": {},
   "source": [
    "# Controllers tuning"
   ]
  },
  {
   "cell_type": "markdown",
   "metadata": {},
   "source": [
    "We used the lesson's equations to tunning our controllers:"
   ]
  },
  {
   "cell_type": "code",
   "execution_count": 2,
   "metadata": {},
   "outputs": [
    {
     "name": "stdout",
     "output_type": "stream",
     "text": [
      "('T_rise', 0.44857142857142857)\n",
      "('Kp', 30.625000000000004)\n",
      "('Ki', 42.87500000000001)\n",
      "('Kd', 8.75)\n"
     ]
    }
   ],
   "source": [
    "zeta = 0.75\n",
    "omega = 3.5 #2.8 for altitude\n",
    "T = 1/omega\n",
    "T_rise = 1.57 * T\n",
    "\n",
    "kp = (1/(T * T)) * (1 + 2 * zeta)\n",
    "ki = 1/(T * T * T)\n",
    "kd = (1/(T)) * (1 + 2 * zeta)\n",
    "\n",
    "print(\"T_rise\", T_rise)\n",
    "print(\"Kp\", kp)\n",
    "print(\"Ki\", ki)\n",
    "print(\"Kd\", kd)"
   ]
  },
  {
   "cell_type": "markdown",
   "metadata": {},
   "source": [
    "So, choosing different values for zeta and omega it was possible fiding differents gains for the PID controller. But the general idea for tuning was chossing a faster action for attitude and a slower for another controllers. The fine tuning was relized by hand (Not easy!)."
   ]
  },
  {
   "cell_type": "markdown",
   "metadata": {},
   "source": [
    "# Flight Evaluation"
   ]
  },
  {
   "cell_type": "markdown",
   "metadata": {},
   "source": [
    "## Python results\n",
    "\n",
    "It was not a easy task for me! But, figures bellow show the error signal in horizontal and vertical positions. It is possible notice that we achieve a error within the desired limits.\n",
    "\n",
    "<img src=\"figures/vertical_error.png\" width=\"600\">\n",
    "<img src=\"figures/horizontal_error.png\" width=\"600\">"
   ]
  },
  {
   "cell_type": "markdown",
   "metadata": {},
   "source": [
    "### C++ results\n",
    "\n",
    "<img src=\"figures/scenario1.png\" width=\"1000\">\n",
    "<img src=\"figures/scenario2.png\" width=\"1000\">\n",
    "<img src=\"figures/scenario3.png\" width=\"1000\">\n",
    "<img src=\"figures/scenario4.png\" width=\"1000\">\n",
    "<img src=\"figures/scenario5.png\" width=\"1000\">"
   ]
  }
 ],
 "metadata": {
  "kernelspec": {
   "display_name": "Python 2",
   "language": "python",
   "name": "python2"
  },
  "language_info": {
   "codemirror_mode": {
    "name": "ipython",
    "version": 2
   },
   "file_extension": ".py",
   "mimetype": "text/x-python",
   "name": "python",
   "nbconvert_exporter": "python",
   "pygments_lexer": "ipython2",
   "version": "2.7.14"
  }
 },
 "nbformat": 4,
 "nbformat_minor": 2
}
